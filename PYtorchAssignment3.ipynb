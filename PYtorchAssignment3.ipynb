{
 "cells": [
  {
   "cell_type": "markdown",
   "metadata": {
    "id": "r0bTYUoG0vBN"
   },
   "source": [
    "**Name : Dikshant Oswal**\n",
    "\n",
    "*   Roll No : 37\n",
    "*   ERP : 1132200219\n"
   ]
  },
  {
   "cell_type": "code",
   "execution_count": 8,
   "metadata": {
    "id": "9FVUDelDx3nT"
   },
   "outputs": [],
   "source": [
    "import torch\n",
    "import numpy as np\n",
    "from torch.autograd import Variable\n",
    "import matplotlib.pyplot as plt\n"
   ]
  },
  {
   "cell_type": "code",
   "execution_count": 9,
   "metadata": {
    "id": "piBq1w86yDn-"
   },
   "outputs": [],
   "source": [
    "\n",
    "# create dummy data for training\n",
    "x_values = [i for i in range(11)]\n",
    "x_train = np.array(x_values, dtype=np.float32)\n",
    "x_train = x_train.reshape(-1, 1)\n",
    "\n",
    "y_values = [2*i + 1 for i in x_values]\n",
    "y_train = np.array(y_values, dtype=np.float32)\n",
    "y_train = y_train.reshape(-1, 1)"
   ]
  },
  {
   "cell_type": "code",
   "execution_count": 10,
   "metadata": {
    "id": "GCGY7LR4yQLE"
   },
   "outputs": [],
   "source": [
    "\n",
    "class linearRegression(torch.nn.Module):\n",
    "    def __init__(self, inputSize, outputSize):\n",
    "        super(linearRegression, self).__init__()\n",
    "        self.linear = torch.nn.Linear(inputSize, outputSize)\n",
    "\n",
    "    def forward(self, x):\n",
    "        out = self.linear(x)\n",
    "        return out"
   ]
  },
  {
   "cell_type": "code",
   "execution_count": 11,
   "metadata": {
    "id": "zL6JV6wzyTMg"
   },
   "outputs": [],
   "source": [
    "inputDim = 1        # takes variable 'x' \n",
    "outputDim = 1       # takes variable 'y'\n",
    "learningRate = 0.01 \n",
    "epochs = 100\n",
    "\n",
    "model = linearRegression(inputDim, outputDim)\n",
    "##### For GPU #######\n",
    "if torch.cuda.is_available():\n",
    "    model.cuda()"
   ]
  },
  {
   "cell_type": "code",
   "execution_count": 12,
   "metadata": {
    "id": "q1031wrHyVkq"
   },
   "outputs": [],
   "source": [
    "criterion = torch.nn.MSELoss() \n",
    "optimizer = torch.optim.SGD(model.parameters(), lr=learningRate)"
   ]
  },
  {
   "cell_type": "code",
   "execution_count": 13,
   "metadata": {
    "colab": {
     "base_uri": "https://localhost:8080/"
    },
    "id": "VsjhIJgpyZAq",
    "outputId": "09ace0e6-9b25-4ea4-b65f-31b8e91172a1"
   },
   "outputs": [
    {
     "name": "stdout",
     "output_type": "stream",
     "text": [
      "tensor(138.4185, grad_fn=<MseLossBackward>)\n",
      "epoch 0, loss 138.41851806640625\n",
      "tensor(11.5467, grad_fn=<MseLossBackward>)\n",
      "epoch 1, loss 11.546738624572754\n",
      "tensor(1.1953, grad_fn=<MseLossBackward>)\n",
      "epoch 2, loss 1.195343255996704\n",
      "tensor(0.3482, grad_fn=<MseLossBackward>)\n",
      "epoch 3, loss 0.34818166494369507\n",
      "tensor(0.2763, grad_fn=<MseLossBackward>)\n",
      "epoch 4, loss 0.2762818932533264\n",
      "tensor(0.2676, grad_fn=<MseLossBackward>)\n",
      "epoch 5, loss 0.2676491141319275\n",
      "tensor(0.2642, grad_fn=<MseLossBackward>)\n",
      "epoch 6, loss 0.2642081379890442\n",
      "tensor(0.2612, grad_fn=<MseLossBackward>)\n",
      "epoch 7, loss 0.2612209916114807\n",
      "tensor(0.2583, grad_fn=<MseLossBackward>)\n",
      "epoch 8, loss 0.2583005428314209\n",
      "tensor(0.2554, grad_fn=<MseLossBackward>)\n",
      "epoch 9, loss 0.2554160952568054\n",
      "tensor(0.2526, grad_fn=<MseLossBackward>)\n",
      "epoch 10, loss 0.2525639832019806\n",
      "tensor(0.2497, grad_fn=<MseLossBackward>)\n",
      "epoch 11, loss 0.24974364042282104\n",
      "tensor(0.2470, grad_fn=<MseLossBackward>)\n",
      "epoch 12, loss 0.24695466458797455\n",
      "tensor(0.2442, grad_fn=<MseLossBackward>)\n",
      "epoch 13, loss 0.24419693648815155\n",
      "tensor(0.2415, grad_fn=<MseLossBackward>)\n",
      "epoch 14, loss 0.2414700835943222\n",
      "tensor(0.2388, grad_fn=<MseLossBackward>)\n",
      "epoch 15, loss 0.2387734055519104\n",
      "tensor(0.2361, grad_fn=<MseLossBackward>)\n",
      "epoch 16, loss 0.23610743880271912\n",
      "tensor(0.2335, grad_fn=<MseLossBackward>)\n",
      "epoch 17, loss 0.23347067832946777\n",
      "tensor(0.2309, grad_fn=<MseLossBackward>)\n",
      "epoch 18, loss 0.23086342215538025\n",
      "tensor(0.2283, grad_fn=<MseLossBackward>)\n",
      "epoch 19, loss 0.22828556597232819\n",
      "tensor(0.2257, grad_fn=<MseLossBackward>)\n",
      "epoch 20, loss 0.22573629021644592\n",
      "tensor(0.2232, grad_fn=<MseLossBackward>)\n",
      "epoch 21, loss 0.22321563959121704\n",
      "tensor(0.2207, grad_fn=<MseLossBackward>)\n",
      "epoch 22, loss 0.2207227647304535\n",
      "tensor(0.2183, grad_fn=<MseLossBackward>)\n",
      "epoch 23, loss 0.2182580828666687\n",
      "tensor(0.2158, grad_fn=<MseLossBackward>)\n",
      "epoch 24, loss 0.21582083404064178\n",
      "tensor(0.2134, grad_fn=<MseLossBackward>)\n",
      "epoch 25, loss 0.2134108692407608\n",
      "tensor(0.2110, grad_fn=<MseLossBackward>)\n",
      "epoch 26, loss 0.21102763712406158\n",
      "tensor(0.2087, grad_fn=<MseLossBackward>)\n",
      "epoch 27, loss 0.2086709588766098\n",
      "tensor(0.2063, grad_fn=<MseLossBackward>)\n",
      "epoch 28, loss 0.2063409686088562\n",
      "tensor(0.2040, grad_fn=<MseLossBackward>)\n",
      "epoch 29, loss 0.20403671264648438\n",
      "tensor(0.2018, grad_fn=<MseLossBackward>)\n",
      "epoch 30, loss 0.20175832509994507\n",
      "tensor(0.1995, grad_fn=<MseLossBackward>)\n",
      "epoch 31, loss 0.1995055228471756\n",
      "tensor(0.1973, grad_fn=<MseLossBackward>)\n",
      "epoch 32, loss 0.1972772628068924\n",
      "tensor(0.1951, grad_fn=<MseLossBackward>)\n",
      "epoch 33, loss 0.1950744241476059\n",
      "tensor(0.1929, grad_fn=<MseLossBackward>)\n",
      "epoch 34, loss 0.19289611279964447\n",
      "tensor(0.1907, grad_fn=<MseLossBackward>)\n",
      "epoch 35, loss 0.19074216485023499\n",
      "tensor(0.1886, grad_fn=<MseLossBackward>)\n",
      "epoch 36, loss 0.1886121779680252\n",
      "tensor(0.1865, grad_fn=<MseLossBackward>)\n",
      "epoch 37, loss 0.18650588393211365\n",
      "tensor(0.1844, grad_fn=<MseLossBackward>)\n",
      "epoch 38, loss 0.18442335724830627\n",
      "tensor(0.1824, grad_fn=<MseLossBackward>)\n",
      "epoch 39, loss 0.18236388266086578\n",
      "tensor(0.1803, grad_fn=<MseLossBackward>)\n",
      "epoch 40, loss 0.1803274154663086\n",
      "tensor(0.1783, grad_fn=<MseLossBackward>)\n",
      "epoch 41, loss 0.17831379175186157\n",
      "tensor(0.1763, grad_fn=<MseLossBackward>)\n",
      "epoch 42, loss 0.17632266879081726\n",
      "tensor(0.1744, grad_fn=<MseLossBackward>)\n",
      "epoch 43, loss 0.17435374855995178\n",
      "tensor(0.1724, grad_fn=<MseLossBackward>)\n",
      "epoch 44, loss 0.17240674793720245\n",
      "tensor(0.1705, grad_fn=<MseLossBackward>)\n",
      "epoch 45, loss 0.1704813688993454\n",
      "tensor(0.1686, grad_fn=<MseLossBackward>)\n",
      "epoch 46, loss 0.16857758164405823\n",
      "tensor(0.1667, grad_fn=<MseLossBackward>)\n",
      "epoch 47, loss 0.16669513285160065\n",
      "tensor(0.1648, grad_fn=<MseLossBackward>)\n",
      "epoch 48, loss 0.16483359038829803\n",
      "tensor(0.1630, grad_fn=<MseLossBackward>)\n",
      "epoch 49, loss 0.16299283504486084\n",
      "tensor(0.1612, grad_fn=<MseLossBackward>)\n",
      "epoch 50, loss 0.1611727774143219\n",
      "tensor(0.1594, grad_fn=<MseLossBackward>)\n",
      "epoch 51, loss 0.15937301516532898\n",
      "tensor(0.1576, grad_fn=<MseLossBackward>)\n",
      "epoch 52, loss 0.157593235373497\n",
      "tensor(0.1558, grad_fn=<MseLossBackward>)\n",
      "epoch 53, loss 0.1558334231376648\n",
      "tensor(0.1541, grad_fn=<MseLossBackward>)\n",
      "epoch 54, loss 0.1540934443473816\n",
      "tensor(0.1524, grad_fn=<MseLossBackward>)\n",
      "epoch 55, loss 0.15237264335155487\n",
      "tensor(0.1507, grad_fn=<MseLossBackward>)\n",
      "epoch 56, loss 0.15067097544670105\n",
      "tensor(0.1490, grad_fn=<MseLossBackward>)\n",
      "epoch 57, loss 0.14898858964443207\n",
      "tensor(0.1473, grad_fn=<MseLossBackward>)\n",
      "epoch 58, loss 0.14732490479946136\n",
      "tensor(0.1457, grad_fn=<MseLossBackward>)\n",
      "epoch 59, loss 0.14567960798740387\n",
      "tensor(0.1441, grad_fn=<MseLossBackward>)\n",
      "epoch 60, loss 0.1440528929233551\n",
      "tensor(0.1424, grad_fn=<MseLossBackward>)\n",
      "epoch 61, loss 0.1424444168806076\n",
      "tensor(0.1409, grad_fn=<MseLossBackward>)\n",
      "epoch 62, loss 0.1408536285161972\n",
      "tensor(0.1393, grad_fn=<MseLossBackward>)\n",
      "epoch 63, loss 0.1392807960510254\n",
      "tensor(0.1377, grad_fn=<MseLossBackward>)\n",
      "epoch 64, loss 0.13772548735141754\n",
      "tensor(0.1362, grad_fn=<MseLossBackward>)\n",
      "epoch 65, loss 0.13618741929531097\n",
      "tensor(0.1347, grad_fn=<MseLossBackward>)\n",
      "epoch 66, loss 0.13466675579547882\n",
      "tensor(0.1332, grad_fn=<MseLossBackward>)\n",
      "epoch 67, loss 0.13316287100315094\n",
      "tensor(0.1317, grad_fn=<MseLossBackward>)\n",
      "epoch 68, loss 0.1316758543252945\n",
      "tensor(0.1302, grad_fn=<MseLossBackward>)\n",
      "epoch 69, loss 0.13020548224449158\n",
      "tensor(0.1288, grad_fn=<MseLossBackward>)\n",
      "epoch 70, loss 0.1287514716386795\n",
      "tensor(0.1273, grad_fn=<MseLossBackward>)\n",
      "epoch 71, loss 0.12731385231018066\n",
      "tensor(0.1259, grad_fn=<MseLossBackward>)\n",
      "epoch 72, loss 0.12589210271835327\n",
      "tensor(0.1245, grad_fn=<MseLossBackward>)\n",
      "epoch 73, loss 0.12448631972074509\n",
      "tensor(0.1231, grad_fn=<MseLossBackward>)\n",
      "epoch 74, loss 0.12309610098600388\n",
      "tensor(0.1217, grad_fn=<MseLossBackward>)\n",
      "epoch 75, loss 0.12172160297632217\n",
      "tensor(0.1204, grad_fn=<MseLossBackward>)\n",
      "epoch 76, loss 0.12036242336034775\n",
      "tensor(0.1190, grad_fn=<MseLossBackward>)\n",
      "epoch 77, loss 0.11901824176311493\n",
      "tensor(0.1177, grad_fn=<MseLossBackward>)\n",
      "epoch 78, loss 0.11768906563520432\n",
      "tensor(0.1164, grad_fn=<MseLossBackward>)\n",
      "epoch 79, loss 0.11637496203184128\n",
      "tensor(0.1151, grad_fn=<MseLossBackward>)\n",
      "epoch 80, loss 0.11507551372051239\n",
      "tensor(0.1138, grad_fn=<MseLossBackward>)\n",
      "epoch 81, loss 0.11379020661115646\n",
      "tensor(0.1125, grad_fn=<MseLossBackward>)\n",
      "epoch 82, loss 0.1125197634100914\n",
      "tensor(0.1113, grad_fn=<MseLossBackward>)\n",
      "epoch 83, loss 0.11126318573951721\n",
      "tensor(0.1100, grad_fn=<MseLossBackward>)\n",
      "epoch 84, loss 0.11002083122730255\n",
      "tensor(0.1088, grad_fn=<MseLossBackward>)\n",
      "epoch 85, loss 0.10879214107990265\n",
      "tensor(0.1076, grad_fn=<MseLossBackward>)\n",
      "epoch 86, loss 0.10757724940776825\n",
      "tensor(0.1064, grad_fn=<MseLossBackward>)\n",
      "epoch 87, loss 0.10637609660625458\n",
      "tensor(0.1052, grad_fn=<MseLossBackward>)\n",
      "epoch 88, loss 0.10518825054168701\n",
      "tensor(0.1040, grad_fn=<MseLossBackward>)\n",
      "epoch 89, loss 0.10401363670825958\n",
      "tensor(0.1029, grad_fn=<MseLossBackward>)\n",
      "epoch 90, loss 0.10285201668739319\n",
      "tensor(0.1017, grad_fn=<MseLossBackward>)\n",
      "epoch 91, loss 0.10170351713895798\n",
      "tensor(0.1006, grad_fn=<MseLossBackward>)\n",
      "epoch 92, loss 0.10056774318218231\n",
      "tensor(0.0994, grad_fn=<MseLossBackward>)\n",
      "epoch 93, loss 0.09944486618041992\n",
      "tensor(0.0983, grad_fn=<MseLossBackward>)\n",
      "epoch 94, loss 0.0983341857790947\n",
      "tensor(0.0972, grad_fn=<MseLossBackward>)\n",
      "epoch 95, loss 0.09723604470491409\n",
      "tensor(0.0962, grad_fn=<MseLossBackward>)\n",
      "epoch 96, loss 0.09615042805671692\n",
      "tensor(0.0951, grad_fn=<MseLossBackward>)\n",
      "epoch 97, loss 0.09507649391889572\n",
      "tensor(0.0940, grad_fn=<MseLossBackward>)\n",
      "epoch 98, loss 0.09401502460241318\n",
      "tensor(0.0930, grad_fn=<MseLossBackward>)\n",
      "epoch 99, loss 0.09296517819166183\n"
     ]
    }
   ],
   "source": [
    "for epoch in range(epochs):\n",
    "    # Converting inputs and labels to Variable\n",
    "    if torch.cuda.is_available():\n",
    "        inputs = Variable(torch.from_numpy(x_train).cuda())\n",
    "        labels = Variable(torch.from_numpy(y_train).cuda())\n",
    "    else:\n",
    "        inputs = Variable(torch.from_numpy(x_train))\n",
    "        labels = Variable(torch.from_numpy(y_train))\n",
    "\n",
    "    # Clear gradient buffers because we don't want any gradient from previous epoch to carry forward, dont want to cummulate gradients\n",
    "    optimizer.zero_grad()\n",
    "\n",
    "    # get output from the model, given the inputs\n",
    "    outputs = model(inputs)\n",
    "\n",
    "    # get loss for the predicted output\n",
    "    loss = criterion(outputs, labels)\n",
    "    print(loss)\n",
    "    # get gradients w.r.t to parameters\n",
    "    loss.backward()\n",
    "\n",
    "    # update parameters\n",
    "    optimizer.step()\n",
    "\n",
    "    print('epoch {}, loss {}'.format(epoch, loss.item()))"
   ]
  },
  {
   "cell_type": "code",
   "execution_count": 15,
   "metadata": {
    "colab": {
     "base_uri": "https://localhost:8080/",
     "height": 450
    },
    "id": "3lJ7CcnsydHw",
    "outputId": "1efac98c-fd10-47c0-83b1-e98806c6a955"
   },
   "outputs": [
    {
     "name": "stdout",
     "output_type": "stream",
     "text": [
      "[[ 0.432821 ]\n",
      " [ 2.5145   ]\n",
      " [ 4.5961785]\n",
      " [ 6.6778574]\n",
      " [ 8.759537 ]\n",
      " [10.841215 ]\n",
      " [12.9228945]\n",
      " [15.004574 ]\n",
      " [17.086252 ]\n",
      " [19.16793  ]\n",
      " [21.249609 ]]\n"
     ]
    },
    {
     "data": {
      "image/png": "[encoded data removed]",
      "text/plain": [
       "<Figure size 432x288 with 1 Axes>"
      ]
     },
     "metadata": {
      "needs_background": "light"
     },
     "output_type": "display_data"
    }
   ],
   "source": [
    "with torch.no_grad(): # we don't need gradients in the testing phase\n",
    "    if torch.cuda.is_available():\n",
    "        predicted = model(Variable(torch.from_numpy(x_train).cuda())).cpu().data.numpy()\n",
    "    else:\n",
    "        predicted = model(Variable(torch.from_numpy(x_train))).data.numpy()\n",
    "    print(predicted)\n",
    "\n",
    "plt.clf()\n",
    "plt.plot(x_train, y_train, 'go', label='True data', alpha=0.5)\n",
    "plt.plot(x_train, predicted, '--', label='Predictions', alpha=0.5)\n",
    "plt.legend(loc='best')\n",
    "plt.show()"
   ]
  }
 ],
 "metadata": {
  "colab": {
   "name": "Untitled0.ipynb",
   "provenance": []
  },
  "kernelspec": {
   "display_name": "Python 3",
   "language": "python",
   "name": "python3"
  },
  "language_info": {
   "codemirror_mode": {
    "name": "ipython",
    "version": 3
   },
   "file_extension": ".py",
   "mimetype": "text/x-python",
   "name": "python",
   "nbconvert_exporter": "python",
   "pygments_lexer": "ipython3",
   "version": "3.8.5"
  }
 },
 "nbformat": 4,
 "nbformat_minor": 1
}
